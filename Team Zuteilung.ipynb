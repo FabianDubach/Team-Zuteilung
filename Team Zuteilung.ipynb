{
 "cells": [
  {
   "cell_type": "code",
   "execution_count": null,
   "id": "f554f184-664c-4f40-a3be-d86fe8727724",
   "metadata": {},
   "outputs": [],
   "source": [
    "import random\n",
    "\n",
    "loop_variable = True\n",
    "spielerliste = []\n",
    "zufaellige_spielerliste1 = []\n",
    "zufaellige_spielerliste2 = []\n",
    "\n",
    "try:\n",
    "    while loop_variable:\n",
    "        anzahl_spieler = int(input('Wie viele Leute spielen mit?: '))\n",
    "        if anzahl_spieler > 1:\n",
    "            loop_variable = False\n",
    "        else:\n",
    "            print('Die Zahl muss grösser als 1 sein!')            \n",
    "except ValueError:\n",
    "    print('Bitte gib eine gültige Zahl ein!')\n",
    "else:\n",
    "    for i in range(anzahl_spieler):\n",
    "        nummer_spieler = i + 1\n",
    "        spielername = input(f'Wie lautet der Name vom {nummer_spieler}. Spieler?: ')\n",
    "        print(spielername)\n",
    "        spielerliste += [spielername]\n",
    "\n",
    "for i in range(anzahl_spieler):\n",
    "    if (anzahl_spieler - i + 1) >= 2:\n",
    "        zufaellige_spielerauswahl = random.choice(spielerliste)\n",
    "        if i % 2 == 0:\n",
    "            zufaellige_spielerliste1.append(zufaellige_spielerauswahl)\n",
    "            spielerliste.remove(zufaellige_spielerauswahl)\n",
    "        else:\n",
    "            zufaellige_spielerliste2.append(zufaellige_spielerauswahl)\n",
    "            spielerliste.remove(zufaellige_spielerauswahl)\n",
    "    else:\n",
    "        zufaellige_spielerliste1.append(zufaellige_spielerauswahl)\n",
    "        spielerliste.remove(zufaellige_spielerauswahl)\n",
    "\n",
    "print('')\n",
    "print(f'Team 1: {zufaellige_spielerliste1}')\n",
    "print(f'Team 2: {zufaellige_spielerliste2}')"
   ]
  },
  {
   "cell_type": "code",
   "execution_count": null,
   "id": "e881413a-8c54-4b5a-acf4-ba31ac74401d",
   "metadata": {},
   "outputs": [],
   "source": []
  }
 ],
 "metadata": {
  "kernelspec": {
   "display_name": "Python 3 (ipykernel)",
   "language": "python",
   "name": "python3"
  },
  "language_info": {
   "codemirror_mode": {
    "name": "ipython",
    "version": 3
   },
   "file_extension": ".py",
   "mimetype": "text/x-python",
   "name": "python",
   "nbconvert_exporter": "python",
   "pygments_lexer": "ipython3",
   "version": "3.10.7"
  }
 },
 "nbformat": 4,
 "nbformat_minor": 5
}
